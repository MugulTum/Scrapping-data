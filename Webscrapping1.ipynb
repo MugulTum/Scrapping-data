{
  "nbformat": 4,
  "nbformat_minor": 0,
  "metadata": {
    "colab": {
      "provenance": []
    },
    "kernelspec": {
      "name": "python3",
      "display_name": "Python 3"
    },
    "language_info": {
      "name": "python"
    }
  },
  "cells": [
    {
      "cell_type": "markdown",
      "source": [
        "Webscrapping-fetching data from websits"
      ],
      "metadata": {
        "id": "5mA8tMfs15GN"
      }
    },
    {
      "cell_type": "code",
      "source": [
        "import requests\n",
        "from bs4 import BeautifulSoup"
      ],
      "metadata": {
        "id": "C3WL4gc63r0U"
      },
      "execution_count": null,
      "outputs": []
    },
    {
      "cell_type": "code",
      "source": [
        "def get_clinic_name(clinic_id):\n",
        "    url         = f'https://{clinic_id}.portal.athenahealth.com/'\n",
        "    response    = requests.get(url)\n",
        "    html        = response.text\n",
        "    soup        = BeautifulSoup(html, 'html.parser')\n",
        "    clinic_name = soup.find_all('h1')[-1].text.strip()\n",
        "    return clinic_name\n"
      ],
      "metadata": {
        "id": "nIwP6-NUArpU"
      },
      "execution_count": null,
      "outputs": []
    },
    {
      "cell_type": "code",
      "source": [
        "start = 12690\n",
        "end = 12800"
      ],
      "metadata": {
        "id": "7M8KwYu157Zl"
      },
      "execution_count": null,
      "outputs": []
    },
    {
      "cell_type": "code",
      "source": [
        "master_list = []\n",
        "\n",
        "for clinic_id in range(start, end+1):\n",
        "  data_dict = {}\n",
        "  data_dict['clinic_id']=clinic_id\n",
        "  data_dict['clinic_name'] = get_clinic_name(clinic_id)\n",
        "  master_list.append(data_dict)\n",
        "  print(clinic_id)"
      ],
      "metadata": {
        "colab": {
          "base_uri": "https://localhost:8080/"
        },
        "id": "RbXBk6Yb5_k5",
        "outputId": "23e99450-3488-4c3d-82d4-d78eb8a0edf5"
      },
      "execution_count": null,
      "outputs": [
        {
          "output_type": "stream",
          "name": "stdout",
          "text": [
            "12690\n",
            "12691\n",
            "12692\n",
            "12693\n",
            "12694\n",
            "12695\n",
            "12696\n",
            "12697\n",
            "12698\n",
            "12699\n",
            "12700\n",
            "12701\n",
            "12702\n",
            "12703\n",
            "12704\n",
            "12705\n",
            "12706\n",
            "12707\n",
            "12708\n",
            "12709\n",
            "12710\n",
            "12711\n",
            "12712\n",
            "12713\n",
            "12714\n",
            "12715\n",
            "12716\n",
            "12717\n",
            "12718\n",
            "12719\n",
            "12720\n",
            "12721\n",
            "12722\n",
            "12723\n",
            "12724\n",
            "12725\n",
            "12726\n",
            "12727\n",
            "12728\n",
            "12729\n",
            "12730\n",
            "12731\n",
            "12732\n",
            "12733\n",
            "12734\n",
            "12735\n",
            "12736\n",
            "12737\n",
            "12738\n",
            "12739\n",
            "12740\n",
            "12741\n",
            "12742\n",
            "12743\n",
            "12744\n",
            "12745\n",
            "12746\n",
            "12747\n",
            "12748\n",
            "12749\n",
            "12750\n",
            "12751\n",
            "12752\n",
            "12753\n",
            "12754\n",
            "12755\n",
            "12756\n",
            "12757\n",
            "12758\n",
            "12759\n",
            "12760\n",
            "12761\n",
            "12762\n",
            "12763\n",
            "12764\n",
            "12765\n",
            "12766\n",
            "12767\n",
            "12768\n",
            "12769\n",
            "12770\n",
            "12771\n",
            "12772\n",
            "12773\n",
            "12774\n",
            "12775\n",
            "12776\n",
            "12777\n",
            "12778\n",
            "12779\n",
            "12780\n",
            "12781\n",
            "12782\n",
            "12783\n",
            "12784\n",
            "12785\n",
            "12786\n",
            "12787\n",
            "12788\n",
            "12789\n",
            "12790\n",
            "12791\n",
            "12792\n",
            "12793\n",
            "12794\n",
            "12795\n",
            "12796\n",
            "12797\n",
            "12798\n",
            "12799\n",
            "12800\n"
          ]
        }
      ]
    },
    {
      "cell_type": "code",
      "source": [
        "master_list"
      ],
      "metadata": {
        "colab": {
          "base_uri": "https://localhost:8080/"
        },
        "id": "eaMWAQoj-Vwr",
        "outputId": "eea14186-a2a7-4aaf-b5ca-86886fc2d3cc"
      },
      "execution_count": null,
      "outputs": [
        {
          "output_type": "execute_result",
          "data": {
            "text/plain": [
              "[{'clinic_id': 12690, 'clinic_name': 'Payment Confirmation'},\n",
              " {'clinic_id': 12691, 'clinic_name': 'Ergomedica'},\n",
              " {'clinic_id': 12692,\n",
              "  'clinic_name': \"Sorry, we can't find that practice. Make sure you typed the right address.\"},\n",
              " {'clinic_id': 12693, 'clinic_name': 'Altamonte Family Practice'},\n",
              " {'clinic_id': 12694, 'clinic_name': 'Open Health Care Clinic'},\n",
              " {'clinic_id': 12695, 'clinic_name': 'Dr. Richard Handelsman'},\n",
              " {'clinic_id': 12696, 'clinic_name': \"Women's CenterforIntegrative Health\"},\n",
              " {'clinic_id': 12697, 'clinic_name': 'Eastern Urological Associates'},\n",
              " {'clinic_id': 12698,\n",
              "  'clinic_name': \"Sorry, we can't find that practice. Make sure you typed the right address.\"},\n",
              " {'clinic_id': 12699, 'clinic_name': 'Payment Confirmation'},\n",
              " {'clinic_id': 12700, 'clinic_name': 'Payment Confirmation'},\n",
              " {'clinic_id': 12701, 'clinic_name': 'Payment Confirmation'},\n",
              " {'clinic_id': 12702, 'clinic_name': 'Chand Rohatgi MD'},\n",
              " {'clinic_id': 12703, 'clinic_name': ''},\n",
              " {'clinic_id': 12704, 'clinic_name': 'Volunteer Healthcare Clinic'},\n",
              " {'clinic_id': 12705, 'clinic_name': 'Christ Clinic'},\n",
              " {'clinic_id': 12706, 'clinic_name': 'Olga Joukovski, MD, PA'},\n",
              " {'clinic_id': 12707, 'clinic_name': 'Restore Health Clinic'},\n",
              " {'clinic_id': 12708,\n",
              "  'clinic_name': 'STUART L. SILVERMAN, M.D., A MEDICAL CORPORATION'},\n",
              " {'clinic_id': 12709, 'clinic_name': 'George E. Weems Clinics'},\n",
              " {'clinic_id': 12710,\n",
              "  'clinic_name': \"Sorry, we can't find that practice. Make sure you typed the right address.\"},\n",
              " {'clinic_id': 12711, 'clinic_name': 'Texas Neurosurgical Spine'},\n",
              " {'clinic_id': 12712,\n",
              "  'clinic_name': \"Sorry, we can't find that practice. Make sure you typed the right address.\"},\n",
              " {'clinic_id': 12713, 'clinic_name': 'Dr. Barry Smith'},\n",
              " {'clinic_id': 12714,\n",
              "  'clinic_name': \"Sorry, we can't find that practice. Make sure you typed the right address.\"},\n",
              " {'clinic_id': 12715,\n",
              "  'clinic_name': 'Cornerstone Family Health And Associates'},\n",
              " {'clinic_id': 12716,\n",
              "  'clinic_name': \"Sorry, we can't find that practice. Make sure you typed the right address.\"},\n",
              " {'clinic_id': 12717, 'clinic_name': 'Hale County Hospital Authority'},\n",
              " {'clinic_id': 12718, 'clinic_name': 'Samia Kozman MD'},\n",
              " {'clinic_id': 12719, 'clinic_name': 'Regenerative Medical Group'},\n",
              " {'clinic_id': 12720, 'clinic_name': 'Payment Confirmation'},\n",
              " {'clinic_id': 12721, 'clinic_name': 'Nourish Wellness Family Medicine'},\n",
              " {'clinic_id': 12722, 'clinic_name': 'The Rosa Health Center'},\n",
              " {'clinic_id': 12723,\n",
              "  'clinic_name': \"Sorry, we can't find that practice. Make sure you typed the right address.\"},\n",
              " {'clinic_id': 12724,\n",
              "  'clinic_name': \"Sorry, we can't find that practice. Make sure you typed the right address.\"},\n",
              " {'clinic_id': 12725, 'clinic_name': 'Deborah Mistal DO PC'},\n",
              " {'clinic_id': 12726, 'clinic_name': 'Denali Family HealthCare, LLC'},\n",
              " {'clinic_id': 12727, 'clinic_name': ''},\n",
              " {'clinic_id': 12728, 'clinic_name': 'Glenda Petrie, NP'},\n",
              " {'clinic_id': 12729, 'clinic_name': 'Payment Confirmation'},\n",
              " {'clinic_id': 12730,\n",
              "  'clinic_name': \"Sorry, we can't find that practice. Make sure you typed the right address.\"},\n",
              " {'clinic_id': 12731,\n",
              "  'clinic_name': \"Sorry, we can't find that practice. Make sure you typed the right address.\"},\n",
              " {'clinic_id': 12732, 'clinic_name': 'One Stop Family Clinic'},\n",
              " {'clinic_id': 12733,\n",
              "  'clinic_name': 'Arlington/Mansfield Foot & Ankle Centers'},\n",
              " {'clinic_id': 12734, 'clinic_name': 'Payment Confirmation'},\n",
              " {'clinic_id': 12735, 'clinic_name': 'The Milan Medical Clinic'},\n",
              " {'clinic_id': 12736, 'clinic_name': 'Columbus Surgical Specialists, LLC'},\n",
              " {'clinic_id': 12737, 'clinic_name': \"DR. LEY'S OFFICE\"},\n",
              " {'clinic_id': 12738,\n",
              "  'clinic_name': \"Sorry, we can't find that practice. Make sure you typed the right address.\"},\n",
              " {'clinic_id': 12739, 'clinic_name': 'Virginia Gastroenterology Institute'},\n",
              " {'clinic_id': 12740, 'clinic_name': 'Payment Confirmation'},\n",
              " {'clinic_id': 12741, 'clinic_name': 'Payment Confirmation'},\n",
              " {'clinic_id': 12742, 'clinic_name': 'Payment Confirmation'},\n",
              " {'clinic_id': 12743, 'clinic_name': 'Coastal Kids Pediatrics'},\n",
              " {'clinic_id': 12744, 'clinic_name': 'Patrick A Krzyzewski DPM'},\n",
              " {'clinic_id': 12745, 'clinic_name': 'Payment Confirmation'},\n",
              " {'clinic_id': 12746, 'clinic_name': 'Southeastern Surgery Inc.'},\n",
              " {'clinic_id': 12747, 'clinic_name': 'Mark Wasserman, MD'},\n",
              " {'clinic_id': 12748,\n",
              "  'clinic_name': \"Sorry, we can't find that practice. Make sure you typed the right address.\"},\n",
              " {'clinic_id': 12749,\n",
              "  'clinic_name': 'Prospect Behavioral Pediatrics and Psychiatry, PLL'},\n",
              " {'clinic_id': 12750, 'clinic_name': 'Totoe Medical Group'},\n",
              " {'clinic_id': 12751, 'clinic_name': 'Marianne Baskin CMSW'},\n",
              " {'clinic_id': 12752, 'clinic_name': 'Ascentist Healthcare'},\n",
              " {'clinic_id': 12753, 'clinic_name': 'Payment Confirmation'},\n",
              " {'clinic_id': 12754, 'clinic_name': 'Pikes Peak Internal Medicine'},\n",
              " {'clinic_id': 12755, 'clinic_name': 'Wee Care Pediatrics'},\n",
              " {'clinic_id': 12756, 'clinic_name': 'Amory Surgery Clinic'},\n",
              " {'clinic_id': 12757, 'clinic_name': 'Payment Confirmation'},\n",
              " {'clinic_id': 12758, 'clinic_name': 'Payment Confirmation'},\n",
              " {'clinic_id': 12759, 'clinic_name': 'Total Wellness Medical Care'},\n",
              " {'clinic_id': 12760, 'clinic_name': 'Infectious Disease Specialists of CT'},\n",
              " {'clinic_id': 12761,\n",
              "  'clinic_name': \"Sorry, we can't find that practice. Make sure you typed the right address.\"},\n",
              " {'clinic_id': 12762, 'clinic_name': 'Spencer Phillips, MD'},\n",
              " {'clinic_id': 12763,\n",
              "  'clinic_name': \"Sorry, we can't find that practice. Make sure you typed the right address.\"},\n",
              " {'clinic_id': 12764,\n",
              "  'clinic_name': \"Sorry, we can't find that practice. Make sure you typed the right address.\"},\n",
              " {'clinic_id': 12765,\n",
              "  'clinic_name': \"Sorry, we can't find that practice. Make sure you typed the right address.\"},\n",
              " {'clinic_id': 12766,\n",
              "  'clinic_name': \"Sorry, we can't find that practice. Make sure you typed the right address.\"},\n",
              " {'clinic_id': 12767,\n",
              "  'clinic_name': \"Sorry, we can't find that practice. Make sure you typed the right address.\"},\n",
              " {'clinic_id': 12768,\n",
              "  'clinic_name': \"Sorry, we can't find that practice. Make sure you typed the right address.\"},\n",
              " {'clinic_id': 12769,\n",
              "  'clinic_name': \"Sorry, we can't find that practice. Make sure you typed the right address.\"},\n",
              " {'clinic_id': 12770,\n",
              "  'clinic_name': \"Sorry, we can't find that practice. Make sure you typed the right address.\"},\n",
              " {'clinic_id': 12771, 'clinic_name': 'Ruetzel Gynecology & Obstetrics'},\n",
              " {'clinic_id': 12772, 'clinic_name': 'Dr. Peter Zeale'},\n",
              " {'clinic_id': 12773,\n",
              "  'clinic_name': \"Sorry, we can't find that practice. Make sure you typed the right address.\"},\n",
              " {'clinic_id': 12774, 'clinic_name': 'JOHN EDWARD KELLY, M.D., P.A.'},\n",
              " {'clinic_id': 12775, 'clinic_name': 'Pace Healthcare, LLC'},\n",
              " {'clinic_id': 12776, 'clinic_name': 'Payment Confirmation'},\n",
              " {'clinic_id': 12777,\n",
              "  'clinic_name': 'The Diabetes and Endocrinology Center of Pensacola'},\n",
              " {'clinic_id': 12778,\n",
              "  'clinic_name': \"Sorry, we can't find that practice. Make sure you typed the right address.\"},\n",
              " {'clinic_id': 12779, 'clinic_name': 'Payment Confirmation'},\n",
              " {'clinic_id': 12780,\n",
              "  'clinic_name': \"Sorry, we can't find that practice. Make sure you typed the right address.\"},\n",
              " {'clinic_id': 12781, 'clinic_name': 'Surya Health Care'},\n",
              " {'clinic_id': 12782, 'clinic_name': 'Payment Confirmation'},\n",
              " {'clinic_id': 12783, 'clinic_name': 'Melvin A Martinez-Castrillon'},\n",
              " {'clinic_id': 12784, 'clinic_name': 'Payment Confirmation'},\n",
              " {'clinic_id': 12785, 'clinic_name': 'Payment Confirmation'},\n",
              " {'clinic_id': 12786, 'clinic_name': 'Patricia A. McCalley, CNM, LLC'},\n",
              " {'clinic_id': 12787, 'clinic_name': 'Payment Confirmation'},\n",
              " {'clinic_id': 12788, 'clinic_name': 'Payment Confirmation'},\n",
              " {'clinic_id': 12789,\n",
              "  'clinic_name': \"Sorry, we can't find that practice. Make sure you typed the right address.\"},\n",
              " {'clinic_id': 12790, 'clinic_name': 'Payment Confirmation'},\n",
              " {'clinic_id': 12791,\n",
              "  'clinic_name': \"Sorry, we can't find that practice. Make sure you typed the right address.\"},\n",
              " {'clinic_id': 12792, 'clinic_name': 'Payment Confirmation'},\n",
              " {'clinic_id': 12793, 'clinic_name': 'Payment Confirmation'},\n",
              " {'clinic_id': 12794,\n",
              "  'clinic_name': \"Sorry, we can't find that practice. Make sure you typed the right address.\"},\n",
              " {'clinic_id': 12795, 'clinic_name': 'KATHY L ADAMS-BERRY, MD'},\n",
              " {'clinic_id': 12796,\n",
              "  'clinic_name': \"Sorry, we can't find that practice. Make sure you typed the right address.\"},\n",
              " {'clinic_id': 12797,\n",
              "  'clinic_name': \"Sorry, we can't find that practice. Make sure you typed the right address.\"},\n",
              " {'clinic_id': 12798, 'clinic_name': 'Dr. Timothy Real'},\n",
              " {'clinic_id': 12799,\n",
              "  'clinic_name': 'Paoli Dermatology and Plastic Surgery Group'},\n",
              " {'clinic_id': 12800, 'clinic_name': 'The Eye Doctor'}]"
            ]
          },
          "metadata": {},
          "execution_count": 31
        }
      ]
    },
    {
      "cell_type": "code",
      "source": [
        "import pandas as pd"
      ],
      "metadata": {
        "id": "SiD7lg-CAMIA"
      },
      "execution_count": null,
      "outputs": []
    },
    {
      "cell_type": "code",
      "source": [
        "df = pd.DataFrame(master_list)"
      ],
      "metadata": {
        "id": "9855gQpXAZBo"
      },
      "execution_count": null,
      "outputs": []
    },
    {
      "cell_type": "code",
      "source": [
        "df.to_csv('clinic_data.csv', index=False)"
      ],
      "metadata": {
        "id": "9eaBa2juAg1l"
      },
      "execution_count": null,
      "outputs": []
    },
    {
      "cell_type": "code",
      "source": [],
      "metadata": {
        "id": "fqKPH9iNAhyD"
      },
      "execution_count": null,
      "outputs": []
    }
  ]
}