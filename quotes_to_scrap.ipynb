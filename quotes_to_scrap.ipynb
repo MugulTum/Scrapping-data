{
  "nbformat": 4,
  "nbformat_minor": 0,
  "metadata": {
    "colab": {
      "provenance": [],
      "authorship_tag": "ABX9TyNiErHwJeKbMvdjL6aqmue7",
      "include_colab_link": true
    },
    "kernelspec": {
      "name": "python3",
      "display_name": "Python 3"
    },
    "language_info": {
      "name": "python"
    }
  },
  "cells": [
    {
      "cell_type": "markdown",
      "metadata": {
        "id": "view-in-github",
        "colab_type": "text"
      },
      "source": [
        "<a href=\"https://colab.research.google.com/github/MugulTum/Scrapping-data/blob/main/quotes_to_scrap.ipynb\" target=\"_parent\"><img src=\"https://colab.research.google.com/assets/colab-badge.svg\" alt=\"Open In Colab\"/></a>"
      ]
    },
    {
      "cell_type": "markdown",
      "source": [
        "For scraping quotes from a website\n"
      ],
      "metadata": {
        "id": "qM0FVFCwTVI6"
      }
    },
    {
      "cell_type": "code",
      "execution_count": 1,
      "metadata": {
        "id": "Zf-AjIAqNEDQ"
      },
      "outputs": [],
      "source": [
        "from bs4 import BeautifulSoup\n",
        "import requests\n",
        "import csv"
      ]
    },
    {
      "cell_type": "code",
      "source": [
        "url_to_scrape = requests.get('https://quotes.toscrape.com/')\n",
        "soup = BeautifulSoup(url_to_scrape.text, 'html.parser')\n",
        "quotes = soup.findAll(\"span\", attrs={\"class\":\"text\"})\n",
        "authors = soup.findAll(\"small\", attrs={\"class\":\"author\"})"
      ],
      "metadata": {
        "id": "jVv7LnVJi2Fz"
      },
      "execution_count": 2,
      "outputs": []
    },
    {
      "cell_type": "markdown",
      "source": [
        "We want to save the outcome in a csv file"
      ],
      "metadata": {
        "id": "ksPvpAAL8y5Q"
      }
    },
    {
      "cell_type": "code",
      "source": [
        "file = open(\"quotes.csv\", \"w\")\n",
        "writer= csv.writer(file)"
      ],
      "metadata": {
        "id": "spG2Suig82ZC"
      },
      "execution_count": 3,
      "outputs": []
    },
    {
      "cell_type": "code",
      "source": [
        "for quote in quotes:\n",
        "  print(quote.text)\n",
        "for author in authors:\n",
        "  print(author.text)"
      ],
      "metadata": {
        "id": "EyRWhDpUXHPr",
        "colab": {
          "base_uri": "https://localhost:8080/"
        },
        "outputId": "4cc59ecb-60ad-4c2d-eaec-76a9bee5c26e"
      },
      "execution_count": 4,
      "outputs": [
        {
          "output_type": "stream",
          "name": "stdout",
          "text": [
            "“The world as we have created it is a process of our thinking. It cannot be changed without changing our thinking.”\n",
            "“It is our choices, Harry, that show what we truly are, far more than our abilities.”\n",
            "“There are only two ways to live your life. One is as though nothing is a miracle. The other is as though everything is a miracle.”\n",
            "“The person, be it gentleman or lady, who has not pleasure in a good novel, must be intolerably stupid.”\n",
            "“Imperfection is beauty, madness is genius and it's better to be absolutely ridiculous than absolutely boring.”\n",
            "“Try not to become a man of success. Rather become a man of value.”\n",
            "“It is better to be hated for what you are than to be loved for what you are not.”\n",
            "“I have not failed. I've just found 10,000 ways that won't work.”\n",
            "“A woman is like a tea bag; you never know how strong it is until it's in hot water.”\n",
            "“A day without sunshine is like, you know, night.”\n",
            "Albert Einstein\n",
            "J.K. Rowling\n",
            "Albert Einstein\n",
            "Jane Austen\n",
            "Marilyn Monroe\n",
            "Albert Einstein\n",
            "André Gide\n",
            "Thomas A. Edison\n",
            "Eleanor Roosevelt\n",
            "Steve Martin\n"
          ]
        }
      ]
    },
    {
      "cell_type": "code",
      "source": [
        "writer.writerow([\"Quotes\", \"Author\"])\n",
        "for quote, author in zip(quotes, authors):\n",
        "  print(quote.text + \".\" + author.text)\n",
        "  writer.writerow([quote.text, author.text])\n",
        "file.close()"
      ],
      "metadata": {
        "colab": {
          "base_uri": "https://localhost:8080/"
        },
        "id": "lrVldAYo8D9x",
        "outputId": "b5116694-0aaa-49fd-c648-6a3cd8285fdb"
      },
      "execution_count": 5,
      "outputs": [
        {
          "output_type": "stream",
          "name": "stdout",
          "text": [
            "“The world as we have created it is a process of our thinking. It cannot be changed without changing our thinking.”.Albert Einstein\n",
            "“It is our choices, Harry, that show what we truly are, far more than our abilities.”.J.K. Rowling\n",
            "“There are only two ways to live your life. One is as though nothing is a miracle. The other is as though everything is a miracle.”.Albert Einstein\n",
            "“The person, be it gentleman or lady, who has not pleasure in a good novel, must be intolerably stupid.”.Jane Austen\n",
            "“Imperfection is beauty, madness is genius and it's better to be absolutely ridiculous than absolutely boring.”.Marilyn Monroe\n",
            "“Try not to become a man of success. Rather become a man of value.”.Albert Einstein\n",
            "“It is better to be hated for what you are than to be loved for what you are not.”.André Gide\n",
            "“I have not failed. I've just found 10,000 ways that won't work.”.Thomas A. Edison\n",
            "“A woman is like a tea bag; you never know how strong it is until it's in hot water.”.Eleanor Roosevelt\n",
            "“A day without sunshine is like, you know, night.”.Steve Martin\n"
          ]
        }
      ]
    }
  ]
}