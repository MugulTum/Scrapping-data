{
  "nbformat": 4,
  "nbformat_minor": 0,
  "metadata": {
    "colab": {
      "provenance": [],
      "authorship_tag": "ABX9TyMDq5U5ipqIP9xG7vyfoHG+",
      "include_colab_link": true
    },
    "kernelspec": {
      "name": "python3",
      "display_name": "Python 3"
    },
    "language_info": {
      "name": "python"
    }
  },
  "cells": [
    {
      "cell_type": "markdown",
      "metadata": {
        "id": "view-in-github",
        "colab_type": "text"
      },
      "source": [
        "<a href=\"https://colab.research.google.com/github/MugulTum/Scrapping-data/blob/main/Bilboard_200.ipynb\" target=\"_parent\"><img src=\"https://colab.research.google.com/assets/colab-badge.svg\" alt=\"Open In Colab\"/></a>"
      ]
    },
    {
      "cell_type": "code",
      "execution_count": 2,
      "metadata": {
        "id": "4OSh7N2Rui-M"
      },
      "outputs": [],
      "source": [
        "import requests\n",
        "from bs4 import BeautifulSoup"
      ]
    },
    {
      "cell_type": "code",
      "source": [
        "url = 'https://www.billboard.com/charts/billboard-200/#'\n",
        "resp = requests.get(url)\n",
        "print(resp)"
      ],
      "metadata": {
        "colab": {
          "base_uri": "https://localhost:8080/"
        },
        "id": "2kLTt8HYd_IZ",
        "outputId": "37524093-a2ca-42ee-e18f-6605034f3b86"
      },
      "execution_count": 4,
      "outputs": [
        {
          "output_type": "stream",
          "name": "stdout",
          "text": [
            "<Response [200]>\n"
          ]
        }
      ]
    },
    {
      "cell_type": "code",
      "source": [
        "soup = BeautifulSoup(resp.text, 'lxml')"
      ],
      "metadata": {
        "id": "e8kB0hyXmtSS"
      },
      "execution_count": 5,
      "outputs": []
    },
    {
      "cell_type": "code",
      "source": [
        "songs = soup.select('li h3')\n"
      ],
      "metadata": {
        "id": "vcZVmtFgmzux"
      },
      "execution_count": 11,
      "outputs": []
    },
    {
      "cell_type": "code",
      "source": [
        "top20 = [song.text[14:][0:-5] for song in songs] #string slicing\n"
      ],
      "metadata": {
        "id": "9LRP28jnnQGU"
      },
      "execution_count": 19,
      "outputs": []
    },
    {
      "cell_type": "code",
      "source": [
        "i = 0\n",
        "for song in top20:\n",
        "  i = i+1\n",
        "  print(f\"{i}).{song}\")"
      ],
      "metadata": {
        "colab": {
          "base_uri": "https://localhost:8080/"
        },
        "id": "s_efPDnto4tM",
        "outputId": "ac11e5cb-79a9-4ba1-ec7d-09a51e69e8f3"
      },
      "execution_count": 17,
      "outputs": [
        {
          "output_type": "stream",
          "name": "stdout",
          "text": [
            "1).1989 (Taylor's Version)\n",
            "2).Golden\n",
            "3).For All The Dogs\n",
            "4).One Thing At A Time\n",
            "5).Nadie Sabe Lo Que Va A Pasar Manana\n",
            "6).Equal Strain On All Parts\n",
            "7).Nostalgia\n",
            "8).Zach Bryan\n",
            "9).Midnights\n",
            "10).SOS\n",
            "11).Lover\n",
            "12).Guts\n",
            "13).Stick Season\n",
            "14).Dangerous: The Double Album\n",
            "15).Folklore\n",
            "16).Genesis\n",
            "17).Utopia\n",
            "18).Leather\n",
            "19).Highway Desperado\n",
            "20).Speak Now (Taylor's Version)\n",
            "21).I Might Forgive... But I Don't Forget\n",
            "22).American Heartbreak\n",
            "23).Scarlet\n",
            "24).reputation\n",
            "25).Red (Taylor's Version)\n",
            "26).SEVENTEENTH Heaven: 11th Mini Album (EP)\n",
            "27).Evermore\n",
            "28).Barbie: The Album\n",
            "29).Pa Las Baby's y Belikeada\n",
            "30).Un Verano Sin Ti\n",
            "31).Larger Than Life\n",
            "32).Sour\n",
            "33).Hackney Diamonds\n",
            "34).Heroes & Villains\n",
            "35).Religiously. The Album.\n",
            "36).Diamonds\n",
            "37).My Turn\n",
            "38).Her Loss\n",
            "39).Ctrl\n",
            "40).Rumours\n",
            "41).Gettin' Old\n",
            "42).Whitsitt Chapel\n",
            "43).Curtain Call: The Hits\n",
            "44).Certified Lover Boy\n",
            "45).Take Care\n",
            "46).Starboy\n",
            "47).Greatest Hits\n",
            "48).Hollywood's Bleeding\n",
            "49).Graduation\n",
            "50).This One's For You\n",
            "51).Fearless (Taylor's Version)\n",
            "52).Before These Crowded Streets\n",
            "53).1989\n",
            "54).good kid, m.A.A.d city\n",
            "55).Manana Sera Bonito\n",
            "56).DAMN.\n",
            "57).Born To Die\n",
            "58).Christmas\n",
            "59).A Gift & A Curse\n",
            "60).Chronicle: The 20 Greatest Hits\n",
            "61).I Am Music\n",
            "62).Manana Sera Bonito (Bichota Season)\n",
            "63).Scorpion\n",
            "64).Set It Off\n",
            "65).Tee's Coney Island\n",
            "66).If I Know Me\n",
            "67).Goodbye & Good Riddance\n",
            "68).$ad Boyz 4 Life II\n",
            "69).El Comienzo\n",
            "70).The Second Stage Turbine Blade\n",
            "71).A Great Chaos\n",
            "72).Blonde\n",
            "73).The Name Chapter: Freefall\n",
            "74).2014 Forest Hills Drive\n",
            "75).20 Number Ones\n",
            "76).Merry Christmas\n",
            "77).Queen Radio: Volume 1\n",
            "78).The Land Is Inhospitable And So Are We\n",
            "79).Traveller\n",
            "80).Harry's House\n",
            "81).Views\n",
            "82).One More Time...\n",
            "83).I Never Liked You\n",
            "84).Hozier\n",
            "85).Almost Healed\n",
            "86).TEC\n",
            "87).Desire, I Want To Turn Into You\n",
            "88).ANTI\n",
            "89).Pink Tape\n",
            "90).ASTROWORLD\n",
            "91).What You See Is What You Get\n",
            "92).The Mockingbird & The Crow\n",
            "93).Bewitched\n",
            "94).After Hours\n",
            "95).Hamilton: An American Musical\n",
            "96).T R A P S O U L\n",
            "97).Sugar Papi\n",
            "98).Wasteland\n",
            "99).Austin\n",
            "100).It's Only Me\n",
            "101).Greatest Hits\n",
            "102).Bell Bottom Country\n",
            "103).AM\n",
            "104).Starting Over\n",
            "105).Thriller\n",
            "106).More Life\n",
            "107).The Best Of Nickelback: Volume 1\n",
            "108).Savage Mode II\n",
            "109).Planet Her\n",
            "110).Greatest Hits\n",
            "111).Renaissance\n",
            "112).Teenage Dream\n",
            "113).Endless Summer Vacation\n",
            "114).Over It\n",
            "115).Beauty Behind The Madness\n",
            "116).The Fear Of Fear (EP)\n",
            "117).SoulFly\n",
            "118).Channel Orange\n",
            "119).Bluebird Days\n",
            "120).Greatest Hits\n",
            "121).Nevermind\n",
            "122).Doo-Wops & Hooligans\n",
            "123).beerbongs & bentleys\n",
            "124).The Block\n",
            "125).Stoney\n",
            "126).2nd EP 'Get Up'\n",
            "127).Luv Is Rage 2\n",
            "128).The Essential Michael Jackson\n",
            "129).Amar\n",
            "130).Future Nostalgia\n",
            "131).The Fame\n",
            "132).Legend: The Best Of...\n",
            "133).The Greatest Christmas Hits\n",
            "134).Elisabeth\n",
            "135).Cottonwood 2\n",
            "136).Greatest Hits\n",
            "137).Purgatory\n",
            "138).Hood Hottest Princess\n",
            "139).÷ (Divide)\n",
            "140).My Beautiful Dark Twisted Fantasy\n",
            "141).50 Number Ones\n",
            "142).Greatest Hits\n",
            "143).IGOR\n",
            "144).DS2\n",
            "145).7220\n",
            "146).A Charlie Brown Christmas (Soundtrack)\n",
            "147).=\n",
            "148).Greatest Hits\n",
            "149).1\n",
            "150).Shoot For The Stars Aim For The Moon\n",
            "151).Boys Of Faith (EP)\n",
            "152).Unreal Unearth\n",
            "153).Legends Never Die\n",
            "154).The Very Best Of Daryl Hall  John Oates\n",
            "155).Death Race For Love\n",
            "156).Lucky\n",
            "157).All Time Greatest Hits\n",
            "158).Pray 4 Love\n",
            "159).Greatest Hits\n",
            "160).Back In Black\n",
            "161).When We All Fall Asleep, Where Do We Go?\n",
            "162).21\n",
            "163).Greatest Hits\n",
            "164).The Melodic Blue\n",
            "165).Get Rich Or Die Tryin'\n",
            "166).Been One\n",
            "167).[Hybrid Theory]\n",
            "168).Spider-Man: Across The Spider-Verse: Metro Boomin Presents (Soundtrack)\n",
            "169).Happier Than Ever\n",
            "170).I've Tried Everything But Therapy (Part I)\n",
            "171).Emails I Can't Send\n",
            "172).The Christmas Song\n",
            "173).Nothing Was The Same\n",
            "174).?\n",
            "175).Summertime Blues\n",
            "176).Their Greatest Hits 1971-1975\n",
            "177).Gold: Greatest Hits\n",
            "178).Divinely Uninspired To A Hellish Extent\n",
            "179).Currents\n",
            "180).Meteora\n",
            "181).Confessions\n",
            "182).Nate Smith\n",
            "183).Something To Give Each Other\n",
            "184).I Will Always Love You: The Best Of Whitney Houston\n",
            "185).Thank Me Later\n",
            "186).Nata Montana\n",
            "187).Moana\n",
            "188).Fine Line\n",
            "189).Danado\n",
            "190).Pretty Little Poison\n",
            "191).Beautiful Mind\n",
            "192).Greatest Hits: The Ultimate Collection\n",
            "193).Greatest Hits\n",
            "194).Swimming\n",
            "195).Elv1s: 30 #1 Hits\n",
            "196).Good Girl Gone Bad\n",
            "197).Greatest Hits\n",
            "198).Flower Boy\n",
            "199).Cigarettes After Sex\n",
            "200).F*ck Love\n",
            "201).\n",
            "202).\t\t\t\tExpand charts menu\t\t\n",
            "203).\t\t\tExpand music menu\t\t\n",
            "204).\t\t\t\t\tExpand culture menu\t\t\n",
            "205).\t\t\tExpand media menu\t\t\n",
            "206).\n",
            "\t\t\t\t\tExpand business menu\t\t\n",
            "207).\n",
            "\n",
            "\t\t\t\t\tExpand pro-tools menu\t\t\n",
            "208).spañol\n",
            "\n",
            "\n",
            "\n",
            "\t\t\t\t\tExpand billboard-espanol menu\t\t\n",
            "209).\n",
            "\n",
            "\n",
            "\n",
            "\t\t\t\t\tExpand honda-music menu\t\t\n"
          ]
        }
      ]
    }
  ]
}