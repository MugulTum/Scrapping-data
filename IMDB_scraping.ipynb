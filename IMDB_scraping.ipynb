{
  "nbformat": 4,
  "nbformat_minor": 0,
  "metadata": {
    "colab": {
      "provenance": [],
      "authorship_tag": "ABX9TyPb6etgGcV6Dh5zKPG1e38O",
      "include_colab_link": true
    },
    "kernelspec": {
      "name": "python3",
      "display_name": "Python 3"
    },
    "language_info": {
      "name": "python"
    }
  },
  "cells": [
    {
      "cell_type": "markdown",
      "metadata": {
        "id": "view-in-github",
        "colab_type": "text"
      },
      "source": [
        "<a href=\"https://colab.research.google.com/github/MugulTum/Scrapping-data/blob/main/IMDB_scraping.ipynb\" target=\"_parent\"><img src=\"https://colab.research.google.com/assets/colab-badge.svg\" alt=\"Open In Colab\"/></a>"
      ]
    },
    {
      "cell_type": "code",
      "execution_count": 102,
      "metadata": {
        "id": "qLtlDP8FSfuO"
      },
      "outputs": [],
      "source": [
        "from bs4 import BeautifulSoup\n",
        "import requests\n",
        "import csv"
      ]
    },
    {
      "cell_type": "code",
      "source": [
        "from pickle import TRUE\n",
        "headers = {\"User-Agent\": \"Mozilla/5.0 (Windows NT 10.0; Win64; x64; rv:109.0) Gecko/20100101 Firefox/119.0\"}\n",
        "\n",
        "# Create a session and send the request\n",
        "with requests.Session() as session:\n",
        "    link = session.get('https://m.imdb.com/chart/moviemeter/?ref_=nv_mv_mpm', headers=headers)\n",
        "\n",
        "# Check if the request was successful (status code 200)\n",
        "if link.status_code == 200:\n",
        "    # Parse the HTML content\n",
        "    soup = BeautifulSoup(link.text, 'html.parser')\n",
        "    movies = soup.find(\"ul\", class_=\"ipc-metadata-list\")\n",
        "    # Find all list items within the unordered list\n",
        "    movies_items = movies.find_all(\"li\")\n",
        "\n",
        "    # Open a CSV file for writing\n",
        "    with open(\"movies_data.csv\", mode=\"w\", encoding=\"utf-8\", newline=\"\") as file:\n",
        "        # Create a CSV writer\n",
        "        writer = csv.writer(file)\n",
        "\n",
        "            # Write the header row\n",
        "        writer.writerow([\"Rank\", \"Title\", \"Year\", \"Duration\", \"Parental Advisory\", \"Rating\"])\n",
        "\n",
        "        # Iterate through each list item and print its text content\n",
        "        for movie_item in movies:\n",
        "          rank = movie_item.find(\"div\", class_=\"sc-94da5b1b-0\").get_text(strip=True).split('(')[0]\n",
        "          title = movie_item.find(\"a\", class_=\"ipc-title-link-wrapper\").text\n",
        "          year = movie_item.find(\"div\", class_=\"sc-c7e5f54-7\").get_text(strip=TRUE)[:4]\n",
        "          duration = movie_item.find(\"div\", class_=\"sc-c7e5f54-7\").get_text(strip=TRUE)[4:10]\n",
        "          parental_advisory = movie_item.find(\"div\", class_=\"sc-c7e5f54-7\").get_text(strip=TRUE)[10:]\n",
        "          rating = movie_item.find(\"span\", class_=\"ipc-rating-star\").get_text(strip=True).split('(')[0]\n",
        "\n",
        "          # Write a row to the CSV file\n",
        "          writer.writerow([rank, title, year, duration, parental_advisory, rating])\n",
        "\n",
        "    print(\"Data written to movies_data.csv successfully.\")\n",
        "\n",
        "else:\n",
        "    print(f\"Failed to retrieve the page. Status code: {link.status_code}\")"
      ],
      "metadata": {
        "colab": {
          "base_uri": "https://localhost:8080/"
        },
        "id": "eDj2L3YV4f5s",
        "outputId": "992919f6-174e-46bf-f1de-e54f8a2a12e3"
      },
      "execution_count": 108,
      "outputs": [
        {
          "output_type": "stream",
          "name": "stdout",
          "text": [
            "Data written to movies_data.csv successfully.\n"
          ]
        }
      ]
    }
  ]
}