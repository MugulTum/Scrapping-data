{
  "nbformat": 4,
  "nbformat_minor": 0,
  "metadata": {
    "colab": {
      "provenance": [],
      "authorship_tag": "ABX9TyOcN2nWFdJY0yxDEoNLJtC2",
      "include_colab_link": true
    },
    "kernelspec": {
      "name": "python3",
      "display_name": "Python 3"
    },
    "language_info": {
      "name": "python"
    }
  },
  "cells": [
    {
      "cell_type": "markdown",
      "metadata": {
        "id": "view-in-github",
        "colab_type": "text"
      },
      "source": [
        "<a href=\"https://colab.research.google.com/github/MugulTum/Scrapping-data/blob/main/Bitcoin_tracker.ipynb\" target=\"_parent\"><img src=\"https://colab.research.google.com/assets/colab-badge.svg\" alt=\"Open In Colab\"/></a>"
      ]
    },
    {
      "cell_type": "code",
      "execution_count": 1,
      "metadata": {
        "id": "qswBA1C8pt7V"
      },
      "outputs": [],
      "source": [
        "from bs4 import BeautifulSoup\n",
        "import requests"
      ]
    },
    {
      "cell_type": "code",
      "source": [
        "url = 'https://www.binance.com/en/price/bitcoin'\n",
        "res = requests.get(url)\n",
        "print(res)"
      ],
      "metadata": {
        "colab": {
          "base_uri": "https://localhost:8080/"
        },
        "id": "YeiGM0VNrqUS",
        "outputId": "3251c5b3-a8da-4656-9a5a-2fccae921139"
      },
      "execution_count": 6,
      "outputs": [
        {
          "output_type": "stream",
          "name": "stdout",
          "text": [
            "<Response [200]>\n"
          ]
        }
      ]
    },
    {
      "cell_type": "code",
      "source": [
        "soup = BeautifulSoup(res.text, 'lxml')"
      ],
      "metadata": {
        "id": "jOGuK7meryEv"
      },
      "execution_count": 7,
      "outputs": []
    },
    {
      "cell_type": "code",
      "source": [
        "uneditedprice = soup.find(class_ = \"css-zo19gu\").text"
      ],
      "metadata": {
        "id": "7D0AUiySWkum"
      },
      "execution_count": 9,
      "outputs": []
    },
    {
      "cell_type": "code",
      "source": [
        "formattedprice = uneditedprice[5:]#removing the first 5 characters"
      ],
      "metadata": {
        "id": "nSFo1vmWaOFV"
      },
      "execution_count": 11,
      "outputs": []
    },
    {
      "cell_type": "code",
      "source": [
        "formattedprice = formattedprice.replace(\",\", \"\") #removing , and replacing it with nothing\n",
        "price = float(formattedprice) #typecasting to float"
      ],
      "metadata": {
        "id": "n201cG_XadDa"
      },
      "execution_count": 18,
      "outputs": []
    },
    {
      "cell_type": "code",
      "source": [
        "myidealprice = 40000\n",
        "if price < myidealprice:\n",
        "  print(\"Bitcoin value is favorable\")\n",
        "else:\n",
        "  print(\"Bitcoin value not good for investing\")"
      ],
      "metadata": {
        "colab": {
          "base_uri": "https://localhost:8080/"
        },
        "id": "r7ejf1pLagMb",
        "outputId": "67e2883e-d650-47c6-af31-3a0a07621bf9"
      },
      "execution_count": 21,
      "outputs": [
        {
          "output_type": "stream",
          "name": "stdout",
          "text": [
            "Bitcoin value is favorable\n"
          ]
        }
      ]
    },
    {
      "cell_type": "code",
      "source": [],
      "metadata": {
        "id": "fcdKkfQpbKph"
      },
      "execution_count": null,
      "outputs": []
    }
  ]
}